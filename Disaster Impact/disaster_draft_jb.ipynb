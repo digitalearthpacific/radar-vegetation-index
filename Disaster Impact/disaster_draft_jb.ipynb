{
 "cells": [
  {
   "cell_type": "markdown",
   "id": "7ec88eaf-50cf-486d-b811-9d819505abc0",
   "metadata": {},
   "source": [
    "<img src=\"https://github.com/nicholasmetherall/digital-earth-pacific-macblue-activities/blob/main/attachments/images/DE_Pacific_banner.JPG?raw=true\" width=\"900\"/>\n",
    "Figure 1.1.a. Jupyter environment + Python notebooks\n",
    "\n",
    "### Digital Earth Pacific Notebook 1 RVI testing J.b 2025\n",
    "\n"
   ]
  },
  {
   "cell_type": "code",
   "execution_count": 1,
   "id": "85328fb1-854d-494d-a1a3-26a3ea4fdd93",
   "metadata": {},
   "outputs": [],
   "source": [
    "# Supress Warnings \n",
    "import warnings\n",
    "warnings.filterwarnings('ignore')\n",
    "\n",
    "# Import common GIS tools\n",
    "import numpy as np\n",
    "import xarray as xr\n",
    "import matplotlib.pyplot as plt\n",
    "import rioxarray as rio\n",
    "import rasterio.features\n",
    "import geopandas as gpd\n",
    "\n",
    "# Import Planetary Computer tools\n",
    "import stackstac\n",
    "import pystac_client\n",
    "import planetary_computer as pc\n",
    "\n",
    "# Other tools\n",
    "from scipy.ndimage import uniform_filter, variance\n",
    "from PIL import Image\n",
    "import odc\n",
    "from odc.stac import stac_load"
   ]
  },
  {
   "cell_type": "markdown",
   "id": "fe49ae48-0c4e-41b6-abc4-cb8d5c4e15e9",
   "metadata": {},
   "source": [
    "### Define the analysis region and load the data"
   ]
  },
  {
   "cell_type": "code",
   "execution_count": 2,
   "id": "d7fdb66d-bce3-49f9-a2f4-f09b4590b635",
   "metadata": {},
   "outputs": [
    {
     "name": "stdout",
     "output_type": "stream",
     "text": [
      "[167.01390995934008, -16.600698523048678, 167.86259603502924, -15.843398137832736]\n"
     ]
    }
   ],
   "source": [
    "#geojson\n",
    "gdf = gpd.read_file(\"training-data/Malakula.geojson\")\n",
    "\n",
    "gdf = gdf.to_crs(\"EPSG:4326\")\n",
    "min_lon, min_lat, max_lon, max_lat = gdf.total_bounds\n",
    "bbox = [min_lon, min_lat, max_lon, max_lat]\n",
    "print(bbox)"
   ]
  },
  {
   "cell_type": "code",
   "execution_count": 3,
   "id": "2e8255af-8781-4206-86cb-0cedc3c16231",
   "metadata": {},
   "outputs": [],
   "source": [
    "time_of_interest = ('2020-08-01', '2020-08-31')\n"
   ]
  },
  {
   "cell_type": "code",
   "execution_count": 4,
   "id": "d61d930e-46d6-43e2-aff3-7087e02c23bf",
   "metadata": {},
   "outputs": [],
   "source": [
    "catalog = pystac_client.Client.open(\"https://planetarycomputer.microsoft.com/api/stac/v1\")"
   ]
  },
  {
   "cell_type": "code",
   "execution_count": 5,
   "id": "a569c8c9-3fbb-4dd0-b2b7-e35b33928056",
   "metadata": {},
   "outputs": [],
   "source": [
    "# We will only load a specific orbit path (descending or ascending)\n",
    "\n",
    "search = catalog.search(\n",
    "    collections=[\"sentinel-1-rtc\"], \n",
    "    bbox=bbox, \n",
    "    datetime=time_of_interest,\n",
    "    query={\"sat:orbit_state\": {\"eq\": \"descending\"}}\n",
    ")"
   ]
  },
  {
   "cell_type": "code",
   "execution_count": 6,
   "id": "14b7e218-6594-4836-9b9b-f7cc0547098c",
   "metadata": {},
   "outputs": [],
   "source": [
    "items = list(search.get_all_items()) # This produces a list of scene IDs"
   ]
  },
  {
   "cell_type": "code",
   "execution_count": 7,
   "id": "122c87fa-5198-485c-a633-34e4301fc57a",
   "metadata": {},
   "outputs": [
    {
     "name": "stdout",
     "output_type": "stream",
     "text": [
      "This is the number of scenes that touch our region: 2\n"
     ]
    }
   ],
   "source": [
    "print('This is the number of scenes that touch our region:',len(items))"
   ]
  },
  {
   "cell_type": "markdown",
   "id": "aabb08ab-bb2f-4578-a797-99f56298d459",
   "metadata": {},
   "source": [
    "Next, we'll load the data into an XARRAY and then \"clip\" the data to only the pixels within our region (bounding box). We will only keep the desired bands (VV, VH). We have changed the projection to epsg=4326 which is standard latitude-longitude in degrees and we have specified the spatial resolution of each pixel to be 10-meters, which is the baseline accuracy for this data. "
   ]
  },
  {
   "cell_type": "code",
   "execution_count": null,
   "id": "d216b33e-fe6a-41d2-a5d5-a3c980a2e12b",
   "metadata": {},
   "outputs": [],
   "source": [
    "# Define the pixel resolution for the final product\n",
    "# Define the scale according to our selected crs, so we will use degrees\n",
    "# The best resolution for Sentinel-1 is 10-meters\n",
    "# Use 100-meters for rapid review of the datasets\n",
    "\n",
    "resolution = 20  # meters per pixel \n",
    "scale = resolution / 111320.0 # degrees per pixel for crs=4326 "
   ]
  },
  {
   "cell_type": "code",
   "execution_count": null,
   "id": "f3c3292d-c35e-4a27-a0e0-c8a4caefe286",
   "metadata": {},
   "outputs": [],
   "source": []
  },
  {
   "cell_type": "code",
   "execution_count": null,
   "id": "e8cfbde5-c5a7-4582-b1e0-4e44726a7949",
   "metadata": {},
   "outputs": [],
   "source": []
  },
  {
   "cell_type": "code",
   "execution_count": null,
   "id": "40f63b57-f134-4839-a0c9-d6bd55d77402",
   "metadata": {},
   "outputs": [],
   "source": []
  },
  {
   "cell_type": "code",
   "execution_count": null,
   "id": "026eff76-5afd-462a-8011-658557035f66",
   "metadata": {},
   "outputs": [],
   "source": []
  }
 ],
 "metadata": {
  "kernelspec": {
   "display_name": "Python 3 (ipykernel)",
   "language": "python",
   "name": "python3"
  },
  "language_info": {
   "codemirror_mode": {
    "name": "ipython",
    "version": 3
   },
   "file_extension": ".py",
   "mimetype": "text/x-python",
   "name": "python",
   "nbconvert_exporter": "python",
   "pygments_lexer": "ipython3",
   "version": "3.10.18"
  }
 },
 "nbformat": 4,
 "nbformat_minor": 5
}
